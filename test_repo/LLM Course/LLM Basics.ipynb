{
 "cells": [
  {
   "attachments": {},
   "cell_type": "markdown",
   "metadata": {},
   "source": [
    "# Understanding Large Language Models (LLMs)\n",
    "\n",
    "## What are Large Language Models (LLMs)?\n",
    "Large Language Models (LLMs) are advanced artificial intelligence systems designed to understand and generate human language. They are based on deep learning architectures, specifically transformers, which allow them to process and generate text with remarkable coherence and accuracy.\n",
    "\n",
    "## Creation and Development\n",
    "The development of LLMs began with the advent of neural networks and deep learning. Key milestones in the creation of LLMs include:\n",
    "\n",
    "1. **Early Neural Networks**: Initial research focused on basic neural networks and their ability to perform tasks like language translation and text generation.\n",
    "\n",
    "2. **Transformers**: Introduced by Vaswani et al. in 2017, the transformer architecture revolutionized natural language processing (NLP) by enabling more efficient training and better performance on large datasets. The self-attention mechanism in transformers allowed models to understand context better than previous methods.\n",
    "\n",
    "3. **Pre-training and Fine-tuning**: The concept of pre-training on a large corpus of text data followed by fine-tuning on specific tasks became a standard approach. This method significantly improved the versatility and performance of LLMs.\n",
    "\n",
    "4. **GPT Series**: OpenAI's Generative Pre-trained Transformer (GPT) series marked significant progress. Starting with GPT, then GPT-2, and GPT-3, each iteration demonstrated substantial improvements in the model's size and capabilities.\n",
    "\n",
    "5. **Continual Advancements**: Following the success of the GPT series, newer models like GPT-3.5 and GPT-4 were developed, further enhancing the ability to understand and generate text. Other notable LLMs include Google's BERT, Facebook's LLaMA, and OpenAI's Codex.\n",
    "\n",
    "## Purpose of LLMs\n",
    "The primary purpose of LLMs is to perform a wide range of natural language processing tasks with high accuracy and efficiency. These tasks include:\n",
    "\n",
    "- **Text Generation**: Creating coherent and contextually relevant text, such as articles, stories, and responses to prompts.\n",
    "- **Translation**: Translating text between different languages.\n",
    "- **Summarization**: Condensing long articles or documents into concise summaries.\n",
    "- **Question Answering**: Providing accurate answers to user queries based on context.\n",
    "- **Conversational Agents**: Powering chatbots and virtual assistants that can engage in meaningful dialogue with users.\n",
    "- **Code Generation**: Assisting in writing and understanding code, as seen with models like Codex.\n",
    "\n",
    "## Types of LLMs\n",
    "Several LLMs have been developed, each with unique features and applications:\n",
    "\n",
    "1. **GPT (Generative Pre-trained Transformer)**: Known for its ability to generate human-like text and perform a variety of NLP tasks. GPT-3 and GPT-4 are the most advanced in this series.\n",
    "\n",
    "2. **BERT (Bidirectional Encoder Representations from Transformers)**: Developed by Google, BERT is designed for understanding the context of words in a sentence by looking at both preceding and succeeding words.\n",
    "\n",
    "3. **LLaMA (Large Language Model Meta AI)**: Developed by Facebook, LLaMA focuses on efficient training and deployment of large language models.\n",
    "\n",
    "4. **Codex**: A variant of GPT-3, Codex is specialized for code generation and understanding, powering tools like GitHub Copilot.\n",
    "\n",
    "5. **DALL-E**: A model designed to generate images from textual descriptions, demonstrating the versatility of transformer architectures beyond text.\n",
    "\n",
    "6. **CLIP (Contrastive Language-Image Pre-Training)**: Integrates vision and language by understanding and generating textual descriptions for images.\n",
    "\n",
    "## Impact and Applications\n",
    "LLMs have had a profound impact on various industries and applications:\n",
    "\n",
    "- **Customer Support**: Chatbots and virtual assistants provide instant, accurate responses to customer inquiries.\n",
    "- **Content Creation**: Automated writing tools assist in generating articles, reports, and marketing content.\n",
    "- **Healthcare**: LLMs help in processing medical records, providing diagnostic assistance, and managing patient interactions.\n",
    "- **Education**: Educational tools powered by LLMs offer personalized tutoring and assist in research.\n",
    "- **Software Development**: Code generation models streamline coding tasks and improve productivity for developers.\n",
    "\n",
    "## Future of LLMs\n",
    "The future of LLMs looks promising, with ongoing research focused on improving their efficiency, reducing biases, and expanding their capabilities. As LLMs continue to evolve, they are expected to become even more integrated into everyday applications, enhancing human productivity and enabling new possibilities in artificial intelligence.\n",
    "\n"
   ]
  },
  {
   "attachments": {},
   "cell_type": "markdown",
   "metadata": {},
   "source": [
    "# Principled Instructions for Effective Prompting with LLMs\n",
    "\n",
    "## Introduction\n",
    "In this notebook, you will learn how to create effective prompts for large language models (LLMs) using principled instructions. These principles are designed to streamline the process of querying and prompting LLMs like LLaMA-1/2 and GPT-3.5/4.\n",
    "\n",
    "## Overview of Large Language Models (LLMs)\n",
    "Large language models (LLMs) like LLaMA-1/2 and GPT-3.5/4 have shown impressive abilities in various domains and tasks. These models are capable of answering questions, performing mathematical reasoning, generating code, and more.\n",
    "\n",
    "## Setup\n",
    "Before we begin, we need to load the API key and relevant Python libraries.\n",
    "\n",
    "### Load the API Key\n",
    "Ensure that you have your API key set up in a `.env` file or as an environment variable.\n",
    "\n",
    "```python\n",
    "import openai\n",
    "import os\n",
    "\n",
    "from dotenv import load_dotenv, find_dotenv\n",
    "_ = load_dotenv(find_dotenv())\n",
    "\n",
    "client = openai.OpenAI(\n",
    "    api_key=os.getenv('OPENAI_API_KEY'),\n",
    ")\n"
   ]
  },
  {
   "attachments": {},
   "cell_type": "markdown",
   "metadata": {},
   "source": [
    "## Prompt Engineering\n",
    "\n",
    "Prompt engineering is the art of communicating with a generative large language model. It involves crafting precise, task-specific instructions to guide the model's responses.\n",
    "\n",
    "### Types of Prompting\n",
    "> Zero-shot prompting: Providing the model with a task without any examples.\n",
    "\n",
    "> Few-shot prompting: Providing the model with a few examples to learn from.\n",
    "Principled Instructions\n",
    "\n",
    "This section introduces few guiding principles for crafting effective prompts. Each principle is accompanied by an example.\n",
    "\n"
   ]
  },
  {
   "attachments": {},
   "cell_type": "markdown",
   "metadata": {},
   "source": [
    "### Principle 1: Conciseness and Clarity\n",
    "Ensure that your prompt is concise and clear, avoiding unnecessary information that does not contribute to the task."
   ]
  },
  {
   "cell_type": "code",
   "execution_count": 1,
   "metadata": {},
   "outputs": [
    {
     "ename": "NameError",
     "evalue": "name 'get_completion' is not defined",
     "output_type": "error",
     "traceback": [
      "\u001b[0;31m---------------------------------------------------------------------------\u001b[0m",
      "\u001b[0;31mNameError\u001b[0m                                 Traceback (most recent call last)",
      "Cell \u001b[0;32mIn[1], line 3\u001b[0m\n\u001b[1;32m      1\u001b[0m \u001b[39m# Example of a concise prompt\u001b[39;00m\n\u001b[1;32m      2\u001b[0m prompt \u001b[39m=\u001b[39m \u001b[39m\"\u001b[39m\u001b[39mExplain the concept of climate change in one short paragraph.\u001b[39m\u001b[39m\"\u001b[39m\n\u001b[0;32m----> 3\u001b[0m response \u001b[39m=\u001b[39m get_completion(prompt)\n\u001b[1;32m      4\u001b[0m \u001b[39mprint\u001b[39m(response)\n",
      "\u001b[0;31mNameError\u001b[0m: name 'get_completion' is not defined"
     ]
    }
   ],
   "source": [
    "# Example of a concise prompt\n",
    "prompt = \"Explain the concept of climate change in one short paragraph.\"\n",
    "response = get_completion(prompt)\n",
    "print(response)\n"
   ]
  },
  {
   "attachments": {},
   "cell_type": "markdown",
   "metadata": {},
   "source": [
    "Climate change refers to long-term alterations in Earth's climate patterns, primarily due to human activities such as burning fossil fuels, deforestation, and industrial processes. These actions increase the concentration of greenhouse gases like carbon dioxide and methane in the atmosphere, leading to a warming effect known as global warming. This warming causes shifts in weather patterns, melting of polar ice caps, rising sea levels, and increased frequency of extreme weather events, impacting ecosystems, human health, and economies globally​ (ExpatWoman)​​ (World Population Review)​​ (Salaries in all countries of the world )​.\n",
    "\n",
    "\n",
    "Climate change refers to significant and lasting changes in the Earth's climate, primarily due to increased levels of greenhouse gases from human activities like burning fossil fuels, deforestation, and industrial processes. This results in global warming, which alters weather patterns, raises sea levels, and increases the frequency and severity of extreme weather events such as hurricanes, droughts, and heatwaves. These changes can disrupt ecosystems, reduce biodiversity, and affect water resources, agriculture, and human health, creating widespread environmental, social, and economic challenges​ (ExpatWoman)​​ (World Population Review)​​ (Better Cities Travel)​."
   ]
  },
  {
   "attachments": {},
   "cell_type": "markdown",
   "metadata": {},
   "source": [
    "### Principle 2: Contextual Relevance\n",
    "Provide relevant context to help the model understand the task better."
   ]
  },
  {
   "cell_type": "code",
   "execution_count": null,
   "metadata": {},
   "outputs": [],
   "source": [
    "# Example of adding context\n",
    "prompt = \"Explain the concept of climate change and its potential effects on the environment in one short paragraph. Provide an unbiased explanation.\"\n",
    "response = get_completion(prompt)\n",
    "print(response)"
   ]
  },
  {
   "attachments": {},
   "cell_type": "markdown",
   "metadata": {},
   "source": [
    "### Principle 3: Task Alignment\n",
    "Align your prompt closely with the task at hand, using appropriate language and structure."
   ]
  },
  {
   "cell_type": "code",
   "execution_count": null,
   "metadata": {},
   "outputs": [],
   "source": [
    "# Example of task alignment\n",
    "prompt = \"Write a detailed step-by-step guide on how to plant a tree.\"\n",
    "response = get_completion(prompt)\n",
    "print(response)"
   ]
  },
  {
   "attachments": {},
   "cell_type": "markdown",
   "metadata": {},
   "source": [
    "### Principle 4: Specificity and Information\n",
    "Be specific and include all necessary information in your prompt."
   ]
  },
  {
   "cell_type": "code",
   "execution_count": null,
   "metadata": {},
   "outputs": [],
   "source": [
    "# Example of specificity\n",
    "prompt = \"List three major impacts of climate change on marine life.\"\n",
    "response = get_completion(prompt)\n",
    "print(response)\n"
   ]
  },
  {
   "attachments": {},
   "cell_type": "markdown",
   "metadata": {},
   "source": [
    "### Principle 5: Example Demonstrations\n",
    "For more complex tasks, include examples within the prompt to demonstrate the desired format or type of response."
   ]
  },
  {
   "cell_type": "code",
   "execution_count": null,
   "metadata": {},
   "outputs": [],
   "source": [
    "# Example of few-shot prompting\n",
    "prompt = \"\"\"Translate the following English sentences to French:\n",
    "1. Hello, how are you?\n",
    "2. What is your name?\n",
    "3. Where is the library?\n",
    "\n",
    "Translate the following sentence to French:\n",
    "4. I would like to order a coffee.\n",
    "\"\"\"\n",
    "response = get_completion(prompt)\n",
    "print(response)\n"
   ]
  },
  {
   "attachments": {},
   "cell_type": "markdown",
   "metadata": {},
   "source": [
    "### Principle 6: Avoiding Bias\n",
    "Design prompts to minimize the activation of biases inherent in the model due to its training data."
   ]
  },
  {
   "cell_type": "code",
   "execution_count": null,
   "metadata": {},
   "outputs": [],
   "source": [
    "# Example of avoiding bias\n",
    "prompt = \"Provide an unbiased summary of the pros and cons of renewable energy.\"\n",
    "response = get_completion(prompt)\n",
    "print(response)\n"
   ]
  },
  {
   "attachments": {},
   "cell_type": "markdown",
   "metadata": {},
   "source": [
    "### Principle 7: Incremental Prompting\n",
    "For tasks that require a sequence of steps, guide the model through the process incrementally."
   ]
  },
  {
   "cell_type": "code",
   "execution_count": null,
   "metadata": {},
   "outputs": [],
   "source": [
    "# Example of incremental prompting\n",
    "prompt = \"\"\"Step 1: Choose a location for planting a tree.\n",
    "Step 2: Dig a hole.\n",
    "Step 3: Place the tree in the hole.\n",
    "Step 4: Fill the hole with soil.\n",
    "Step 5: Water the tree.\n",
    "\n",
    "Now, describe step 1 in detail.\n",
    "\"\"\"\n",
    "response = get_completion(prompt)\n",
    "print(response)\n"
   ]
  },
  {
   "attachments": {},
   "cell_type": "markdown",
   "metadata": {},
   "source": [
    "## Time to practice!\n",
    "\n",
    "### Exercise 1: Crafting a Prompt\n",
    "Create a prompt for generating a summary of a news article. Use the principles discussed above.\n",
    "\n",
    "### Exercise 2: Refining Prompts\n",
    "Refine the following prompt using the principles of conciseness and clarity.\n",
    "\n",
    "### Exercise 3: Avoiding Bias\n",
    "Create a prompt that ensures an unbiased response on the topic of artificial intelligence.\n"
   ]
  },
  {
   "cell_type": "code",
   "execution_count": null,
   "metadata": {},
   "outputs": [],
   "source": []
  },
  {
   "cell_type": "markdown",
   "metadata": {},
   "source": []
  },
  {
   "cell_type": "code",
   "execution_count": null,
   "metadata": {},
   "outputs": [],
   "source": []
  }
 ],
 "metadata": {
  "kernelspec": {
   "display_name": "datascience_project",
   "language": "python",
   "name": "python3"
  },
  "language_info": {
   "codemirror_mode": {
    "name": "ipython",
    "version": 3
   },
   "file_extension": ".py",
   "mimetype": "text/x-python",
   "name": "python",
   "nbconvert_exporter": "python",
   "pygments_lexer": "ipython3",
   "version": "3.8.18"
  },
  "orig_nbformat": 4
 },
 "nbformat": 4,
 "nbformat_minor": 2
}
