{
 "cells": [
  {
   "cell_type": "markdown",
   "id": "3e58c492",
   "metadata": {},
   "source": [
    "\n",
    "## Creating a Repository Using Command Line on Mac\n",
    "\n",
    "This guide provides step-by-step instructions on how to create a Git repository on a Mac using the command line.\n"
   ]
  },
  {
   "cell_type": "markdown",
   "id": "f984055d",
   "metadata": {},
   "source": [
    "\n",
    "### 1. Create a Local Repository\n",
    "\n",
    "Open your Terminal and navigate to the directory where you want to create your repository:\n",
    "\n",
    "```bash\n",
    "cd path/to/your/project-directory\n",
    "```\n",
    "\n",
    "Initialize the directory as a Git repository:\n",
    "\n",
    "```bash\n",
    "git init\n",
    "```\n",
    "\n",
    "This command creates a new subdirectory named `.git` that contains all your necessary repository files, making it a Git repository skeleton.\n"
   ]
  },
  {
   "cell_type": "markdown",
   "id": "d05f932c",
   "metadata": {},
   "source": [
    "\n",
    "### 2. Add Files to the Repository\n",
    "\n",
    "To track files with Git, add them to your repository. For all files in the directory:\n",
    "\n",
    "```bash\n",
    "git add .\n",
    "```\n",
    "\n",
    "Or, to add specific files:\n",
    "\n",
    "```bash\n",
    "git add filename\n",
    "```\n"
   ]
  },
  {
   "cell_type": "markdown",
   "id": "33d48710",
   "metadata": {},
   "source": [
    "\n",
    "### 3. Commit the Changes\n",
    "\n",
    "After adding the files, commit the changes, recording your changes to the local repository with a meaningful message:\n",
    "\n",
    "```bash\n",
    "git commit -m \"Initial commit\"\n",
    "```\n"
   ]
  },
  {
   "cell_type": "markdown",
   "id": "4ae433e7",
   "metadata": {},
   "source": [
    "\n",
    "### 4. Create a Repository on GitHub\n",
    "\n",
    "You can create a repository on GitHub using the GitHub website or the GitHub CLI.\n",
    "\n",
    "#### Using GitHub's Website:\n",
    "\n",
    "- Navigate to GitHub.com, log in, and create a new repository via the user interface.\n",
    "\n",
    "#### Using GitHub CLI:\n",
    "\n",
    "First, install the GitHub CLI, then run:\n",
    "\n",
    "```bash\n",
    "gh repo create your-repository-name --public --description \"Your description\"\n",
    "```\n"
   ]
  },
  {
   "cell_type": "markdown",
   "id": "188670fa",
   "metadata": {},
   "source": [
    "\n",
    "### 5. Link Your Local Repository to GitHub\n",
    "\n",
    "Link your local repository to the remote (GitHub) repository:\n",
    "\n",
    "```bash\n",
    "git remote add origin https://github.com/your-username/your-repository-name.git\n",
    "```\n"
   ]
  },
  {
   "cell_type": "markdown",
   "id": "2f14050c",
   "metadata": {},
   "source": [
    "\n",
    "### 6. Push Your Changes to GitHub\n",
    "\n",
    "Push the changes from your local repository to GitHub:\n",
    "\n",
    "```bash\n",
    "git push -u origin master\n",
    "```\n",
    "\n",
    "The `-u` flag sets the upstream (tracking) reference, allowing for simpler pushes and pulls in the future.\n"
   ]
  },
  {
   "cell_type": "markdown",
   "id": "7893504e",
   "metadata": {},
   "source": [
    "\n",
    "This notebook guides you through creating a Git repository on a Mac, adding files, and pushing it to GitHub. It covers both the initial setup and linking to a remote repository.\n"
   ]
  }
 ],
 "metadata": {},
 "nbformat": 4,
 "nbformat_minor": 5
}
